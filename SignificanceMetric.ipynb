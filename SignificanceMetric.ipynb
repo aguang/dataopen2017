{
 "cells": [
  {
   "cell_type": "code",
   "execution_count": 1,
   "metadata": {
    "collapsed": true
   },
   "outputs": [],
   "source": [
    "%matplotlib inline\n",
    "import numpy as np\n",
    "import pandas as pd\n",
    "import matplotlib.pyplot as plt\n",
    "from tqdm import tqdm"
   ]
  },
  {
   "cell_type": "code",
   "execution_count": 2,
   "metadata": {
    "collapsed": true
   },
   "outputs": [],
   "source": [
    "df_tcga = pd.read_csv('../data/tcga.csv')\n",
    "df_gtex = pd.read_csv('../data/gtex_gene_expression.csv')\n",
    "df_organ = pd.read_csv('../data/gtex_tissue.csv')"
   ]
  },
  {
   "cell_type": "code",
   "execution_count": 3,
   "metadata": {},
   "outputs": [],
   "source": [
    "organ_info = np.array([map(float, val.split(',')[:-1]) for val in df_gtex.rpkm_expressions.values])"
   ]
  },
  {
   "cell_type": "code",
   "execution_count": 4,
   "metadata": {},
   "outputs": [],
   "source": [
    "gb_organ = df_organ.groupby('organ').groups"
   ]
  },
  {
   "cell_type": "code",
   "execution_count": 5,
   "metadata": {},
   "outputs": [
    {
     "name": "stderr",
     "output_type": "stream",
     "text": [
      "100%|██████████| 52896/52896 [00:19<00:00, 2672.99it/s]\n",
      "100%|██████████| 2236128/2236128 [00:48<00:00, 46114.91it/s]\n"
     ]
    }
   ],
   "source": [
    "everything_list = []\n",
    "organs = set(df_tcga.organ) - set(['HeadAndNeck'])\n",
    "for i in tqdm(range(len(df_gtex))):\n",
    "    gene_id = df_gtex['gene_id'].values[i]\n",
    "    for organ in organs:\n",
    "        exp = np.median(organ_info[i][gb_organ[organ]])\n",
    "        everything_list.append([gene_id, organ, exp, 0])\n",
    "\n",
    "for i in tqdm(range(len(df_tcga))):\n",
    "    if not df_tcga['organ'].values[i] in organs:\n",
    "        continue\n",
    "    gene_id = df_tcga['gene_id'].values[i]\n",
    "    organ = df_tcga['organ'].values[i]\n",
    "    exp = df_tcga['fpkm_expression'].values[i]\n",
    "    everything_list.append([gene_id, organ, exp, 1])\n",
    "    \n",
    "df_predict = pd.DataFrame(everything_list, columns = ['gene_id', 'organ', 'exp', 'is_cancer'])\n",
    "    "
   ]
  },
  {
   "cell_type": "code",
   "execution_count": 6,
   "metadata": {},
   "outputs": [
    {
     "data": {
      "text/plain": [
       "(6.8334307320024203, 1.033274111195057, 191.24039033617024, 27.319230158439929)"
      ]
     },
     "execution_count": 6,
     "metadata": {},
     "output_type": "execute_result"
    }
   ],
   "source": [
    "cancer_0_mean = np.mean(df_predict[df_predict.is_cancer == 0].exp.values)\n",
    "cancer_1_mean = np.mean(df_predict[df_predict.is_cancer == 1].exp.values)\n",
    "cancer_0_std = np.std(df_predict[df_predict.is_cancer == 0].exp.values)\n",
    "cancer_1_std = np.std(df_predict[df_predict.is_cancer == 1].exp.values)\n",
    "# cancer_0_std = np.mean(organ_info.flatten())\n",
    "# tcga_norm = np.std(df_tcga.fpkm_expression)\n",
    "# tcga_mean = np.mean(df_tcga.fpkm_expression)\n",
    "cancer_0_mean, cancer_1_mean, cancer_0_std, cancer_1_std"
   ]
  },
  {
   "cell_type": "code",
   "execution_count": 7,
   "metadata": {},
   "outputs": [
    {
     "name": "stderr",
     "output_type": "stream",
     "text": [
      "100%|██████████| 52905/52905 [00:27<00:00, 1905.31it/s]\n"
     ]
    }
   ],
   "source": [
    "gb_predict = df_predict.groupby('gene_id').groups\n",
    "good_locs = []\n",
    "for gene_id in tqdm(gb_predict):\n",
    "    if len(set(df_predict.loc[gb_predict[gene_id], 'is_cancer'])) > 1:\n",
    "        good_locs.extend(gb_predict[gene_id])"
   ]
  },
  {
   "cell_type": "code",
   "execution_count": 8,
   "metadata": {},
   "outputs": [],
   "source": [
    "df_final = df_predict.loc[good_locs, :]"
   ]
  },
  {
   "cell_type": "code",
   "execution_count": 9,
   "metadata": {},
   "outputs": [
    {
     "data": {
      "text/plain": [
       "(1.0084164122914123,\n",
       " 8.9200362289303889,\n",
       " 1.0363142485149537,\n",
       " 27.363440011093203)"
      ]
     },
     "execution_count": 9,
     "metadata": {},
     "output_type": "execute_result"
    }
   ],
   "source": [
    "mean_0 = np.mean(df_final[df_final.is_cancer == 0].exp)\n",
    "std_0 = np.std(df_final[df_final.is_cancer == 0].exp)\n",
    "mean_1 = np.mean(df_final[df_final.is_cancer == 1].exp)\n",
    "std_1 = np.std(df_final[df_final.is_cancer == 1].exp)\n",
    "mean_0,std_0,mean_1,std_1"
   ]
  },
  {
   "cell_type": "code",
   "execution_count": 10,
   "metadata": {},
   "outputs": [
    {
     "name": "stderr",
     "output_type": "stream",
     "text": [
      "/usr/local/lib/python2.7/site-packages/ipykernel_launcher.py:3: SettingWithCopyWarning: \n",
      "A value is trying to be set on a copy of a slice from a DataFrame.\n",
      "Try using .loc[row_indexer,col_indexer] = value instead\n",
      "\n",
      "See the caveats in the documentation: http://pandas.pydata.org/pandas-docs/stable/indexing.html#indexing-view-versus-copy\n",
      "  This is separate from the ipykernel package so we can avoid doing imports until\n",
      "/usr/local/lib/python2.7/site-packages/ipykernel_launcher.py:6: SettingWithCopyWarning: \n",
      "A value is trying to be set on a copy of a slice from a DataFrame.\n",
      "Try using .loc[row_indexer,col_indexer] = value instead\n",
      "\n",
      "See the caveats in the documentation: http://pandas.pydata.org/pandas-docs/stable/indexing.html#indexing-view-versus-copy\n",
      "  \n"
     ]
    }
   ],
   "source": [
    "df_cancer = df_final[df_final.is_cancer == 1]\n",
    "new_exp = (df_cancer.exp - mean_1)/std_1\n",
    "df_cancer['exp'] = new_exp\n",
    "df_not_cancer = df_final[df_final.is_cancer == 0]\n",
    "new_exp = (df_not_cancer.exp - mean_0)/std_0\n",
    "df_not_cancer['exp'] = new_exp\n",
    "\n",
    "df_norm = pd.concat([df_cancer, df_not_cancer])\n"
   ]
  },
  {
   "cell_type": "code",
   "execution_count": 11,
   "metadata": {},
   "outputs": [
    {
     "name": "stderr",
     "output_type": "stream",
     "text": [
      "/usr/local/lib/python2.7/site-packages/sklearn/cross_validation.py:44: DeprecationWarning: This module was deprecated in version 0.18 in favor of the model_selection module into which all the refactored classes and functions are moved. Also note that the interface of the new CV iterators are different from that of this module. This module will be removed in 0.20.\n",
      "  \"This module will be removed in 0.20.\", DeprecationWarning)\n"
     ]
    }
   ],
   "source": [
    "from xgboost import XGBClassifier\n",
    "from sklearn.metrics import roc_auc_score\n",
    "import multiprocessing as mp"
   ]
  },
  {
   "cell_type": "code",
   "execution_count": 12,
   "metadata": {},
   "outputs": [
    {
     "name": "stderr",
     "output_type": "stream",
     "text": [
      "100%|██████████| 19656/19656 [11:18<00:00, 28.96it/s]\n"
     ]
    }
   ],
   "source": [
    "gb_norm = df_norm.groupby(['gene_id', 'organ']).groups\n",
    "score_dict = {}\n",
    "for key in tqdm(gb_norm):\n",
    "    small_df = df_norm.loc[gb_norm[key], :]\n",
    "    \n",
    "    model = XGBClassifier()\n",
    "    model.fit(small_df[['exp']], small_df['is_cancer'])\n",
    "    score_dict[key] = roc_auc_score(small_df['is_cancer'].values, model.predict_proba(small_df[['exp']])[:,1])\n",
    "    \n",
    "    \n",
    "    "
   ]
  },
  {
   "cell_type": "code",
   "execution_count": 44,
   "metadata": {},
   "outputs": [],
   "source": [
    "sorted_ixes = np.array(list(np.argsort(score_dict.values())))"
   ]
  },
  {
   "cell_type": "code",
   "execution_count": 69,
   "metadata": {
    "collapsed": true
   },
   "outputs": [],
   "source": [
    "import matplotlib.patches as mpatches"
   ]
  },
  {
   "cell_type": "code",
   "execution_count": 73,
   "metadata": {},
   "outputs": [
    {
     "name": "stderr",
     "output_type": "stream",
     "text": [
      "\n",
      "\n",
      "  0%|          | 0/19656 [00:00<?, ?it/s]\u001b[A\u001b[A"
     ]
    },
    {
     "name": "stdout",
     "output_type": "stream",
     "text": [
      "('ENSG00000242922', 'Prostate')\n"
     ]
    },
    {
     "name": "stderr",
     "output_type": "stream",
     "text": [
      "\n",
      "\u001b[A"
     ]
    },
    {
     "data": {
      "image/png": "[encoded data removed]",
      "text/plain": [
       "<matplotlib.figure.Figure at 0x1475e8d50>"
      ]
     },
     "metadata": {},
     "output_type": "display_data"
    }
   ],
   "source": [
    "for i in tqdm(range(len(sorted_ixes))):\n",
    "    if i > 12000:\n",
    "        print tuple(np.array(score_dict.keys())[sorted_ixes[i]])\n",
    "        small_df = df_norm.loc[gb_norm[tuple(np.array(score_dict.keys())[sorted_ixes[i]])], :]\n",
    "        small_df = small_df[small_df.exp > -.10]\n",
    "        fig = plt.figure(figsize=(10,6))\n",
    "        plt.hist(small_df.exp.values, bins=100)\n",
    "        plt.axvline(small_df[small_df.is_cancer == 1].exp.values[0], c='r')\n",
    "        plt.xlabel('expression')\n",
    "        plt.ylabel('counts')\n",
    "        plt.title('Difference in Expression of ' + str(tuple(np.array(score_dict.keys())[sorted_ixes[i]])) + ' between Cancerous and Non-Cancerous Organs')\n",
    "        blue_patch = mpatches.Patch(color='blue', label='Non-Cancerous')\n",
    "        red_patch = mpatches.Patch(color='red', label='Cancerous Data Point')\n",
    "        plt.legend(handles=[blue_patch, red_patch])\n",
    "        plt.savefig('ex.png')\n",
    "        plt.show()\n",
    "        break"
   ]
  },
  {
   "cell_type": "code",
   "execution_count": 75,
   "metadata": {},
   "outputs": [
    {
     "name": "stderr",
     "output_type": "stream",
     "text": [
      "\n",
      "\n",
      "\n",
      "  0%|          | 0/19656 [00:00<?, ?it/s]\u001b[A\u001b[A\u001b[A\n",
      "\n",
      "\n",
      "100%|██████████| 19656/19656 [00:00<00:00, 218278.78it/s]\u001b[A\u001b[A\u001b[A"
     ]
    }
   ],
   "source": [
    "best_genes_dict = {}\n",
    "for key in tqdm(score_dict):\n",
    "    if not key[0] in best_genes_dict:\n",
    "        best_genes_dict[key[0]] = []\n",
    "    best_genes_dict[key[0]].append(score_dict[key])"
   ]
  },
  {
   "cell_type": "code",
   "execution_count": 77,
   "metadata": {},
   "outputs": [],
   "source": [
    "best_score_dict = {key: np.mean(np.log(best_genes_dict[key])) for key in best_genes_dict}"
   ]
  },
  {
   "cell_type": "code",
   "execution_count": 94,
   "metadata": {},
   "outputs": [
    {
     "name": "stdout",
     "output_type": "stream",
     "text": [
      "1 ENSG00000207554 -0.00201684022083\n",
      "2 ENSG00000145649 -0.00395507969427\n",
      "3 ENSG00000273270 -0.00440885639688\n",
      "4 ENSG00000102096 -0.00618416118831\n",
      "5 ENSG00000165591 -0.00636505764117\n",
      "6 ENSG00000133985 -0.00641557700344\n",
      "7 ENSG00000196639 -0.0066458977513\n",
      "8 ENSG00000246575 -0.00666004658487\n",
      "9 ENSG00000239763 -0.00677270995259\n",
      "10 ENSG00000205502 -0.00714431955518\n",
      "11 ENSG00000271993 -0.00834176990876\n",
      "12 ENSG00000260572 -0.00853602950174\n",
      "13 ENSG00000170214 -0.00857961863196\n",
      "14 ENSG00000137364 -0.00881840411458\n",
      "15 ENSG00000262333 -0.00882089044185\n",
      "16 ENSG00000196368 -0.00913864010692\n",
      "17 ENSG00000122122 -0.00959385162522\n",
      "18 ENSG00000219928 -0.00965773646269\n",
      "19 ENSG00000231359 -0.00998122623398\n",
      "20 ENSG00000271843 -0.0100148036785\n",
      "21 ENSG00000174721 -0.0100934758949\n",
      "22 ENSG00000134259 -0.0101106956163\n",
      "23 ENSG00000248008 -0.010129546539\n",
      "24 ENSG00000259250 -0.0101714253135\n",
      "25 ENSG00000269892 -0.0107311161149\n",
      "26 ENSG00000150551 -0.0108025072439\n",
      "27 ENSG00000260855 -0.0108483290885\n",
      "28 ENSG00000110852 -0.0108638318611\n",
      "29 ENSG00000136869 -0.0109095857391\n",
      "30 ENSG00000161980 -0.0110219101757\n",
      "31 ENSG00000270067 -0.0112327062048\n",
      "32 ENSG00000173546 -0.0114226017515\n",
      "33 ENSG00000135862 -0.0115451787516\n",
      "34 ENSG00000269069 -0.011578441504\n",
      "35 ENSG00000268442 -0.01162644707\n",
      "36 ENSG00000216775 -0.0116401824925\n",
      "37 ENSG00000240898 -0.0116889508442\n",
      "38 ENSG00000158859 -0.011875717997\n",
      "39 ENSG00000263235 -0.0121035827312\n",
      "40 ENSG00000273196 -0.0121536710135\n",
      "41 ENSG00000198146 -0.0122595977586\n",
      "42 ENSG00000249572 -0.0123008170388\n",
      "43 ENSG00000124466 -0.0125037759738\n",
      "44 ENSG00000273148 -0.0125343115855\n",
      "45 ENSG00000152213 -0.0125891919021\n",
      "46 ENSG00000073905 -0.0126338259343\n",
      "47 ENSG00000230795 -0.0126538606739\n",
      "48 ENSG00000270001 -0.0127097884869\n",
      "49 ENSG00000104903 -0.0128077938421\n",
      "50 ENSG00000127920 -0.0129730828688\n"
     ]
    }
   ],
   "source": [
    "ixes_sorted = np.argsort(best_score_dict.values())\n",
    "scores = []\n",
    "for i in range(1, 51):\n",
    "    print i, best_score_dict.keys()[ixes_sorted[-i]], best_score_dict.values()[ixes_sorted[-i]]\n",
    "    scores.append(best_score_dict.values()[ixes_sorted[-i]])"
   ]
  },
  {
   "cell_type": "code",
   "execution_count": 96,
   "metadata": {},
   "outputs": [
    {
     "data": {
      "image/png": "[encoded data removed]",
      "text/plain": [
       "<matplotlib.figure.Figure at 0x145d1f690>"
      ]
     },
     "metadata": {},
     "output_type": "display_data"
    }
   ],
   "source": [
    "import seaborn\n",
    "fig = plt.figure(figsize=(10,6))\n",
    "plt.plot(scores)\n",
    "plt.xlabel('rank')\n",
    "plt.ylabel('significance')\n",
    "plt.title('Significance of the 50 most significant genes')\n",
    "plt.savefig('ex2.png')"
   ]
  },
  {
   "cell_type": "code",
   "execution_count": null,
   "metadata": {
    "collapsed": true
   },
   "outputs": [],
   "source": []
  }
 ],
 "metadata": {
  "kernelspec": {
   "display_name": "Python 2",
   "language": "python",
   "name": "python2"
  },
  "language_info": {
   "codemirror_mode": {
    "name": "ipython",
    "version": 2
   },
   "file_extension": ".py",
   "mimetype": "text/x-python",
   "name": "python",
   "nbconvert_exporter": "python",
   "pygments_lexer": "ipython2",
   "version": "2.7.13"
  }
 },
 "nbformat": 4,
 "nbformat_minor": 2
}
